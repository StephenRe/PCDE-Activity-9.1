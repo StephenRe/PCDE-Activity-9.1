{
 "cells": [
  {
   "cell_type": "markdown",
   "metadata": {},
   "source": [
    "# The Massachusetts Institute of Technology (MIT)\n",
    "\n",
    "**My name: Stephen Re - Username: StephenRe**\n",
    "\n",
    "The Massachusetts Institute of Technology (MIT) is a private university in Cambridge, Massachusetts. Established in 1861, MIT has since then been at the center of the development of modern technology and science. Since it was founded, MIT has been ranked among the top academic institutions in the world.\n",
    "\n",
    "The original MIT seal was adopted by the Corporation which was MIT's governing board at the time.  It represents two figures, the laborer and the scholar, personifying their latin moto Mens et Manus (Mind and Hand). The image below displays the original seal.\n",
    "\n",
    "Reference: \n",
    "Massachusetts Institute of Technology, **“Commencement”**. mit.edu. Massachusetts Institute of Technology. [https://commencement.mit.edu/commencement-archive/history-and-symbolism#:~:text=The MIT seal was adopted,of the Institute were members](https://commencement.mit.edu/commencement-archive/history-and-symbolism#:~:text=The%20MIT%20seal%20was%20adopted,of%20the%20Institute%20were%20members). "
   ]
  },
  {
   "cell_type": "code",
   "execution_count": 8,
   "metadata": {},
   "outputs": [
    {
     "data": {
      "text/html": [
       "<img src=\"https://raw.githubusercontent.com/StephenRe/PCDE-Activity-9.1/main/mitseal.jpg\"/>"
      ],
      "text/plain": [
       "<IPython.core.display.Image object>"
      ]
     },
     "metadata": {},
     "output_type": "display_data"
    }
   ],
   "source": [
    "from IPython.display import Image\n",
    "\n",
    "jpgurl = 'https://raw.githubusercontent.com/StephenRe/PCDE-Activity-9.1/main/mitseal.jpg'\n",
    "display(Image(url=jpgurl))"
   ]
  }
 ],
 "metadata": {
  "kernelspec": {
   "display_name": "Python 3",
   "language": "python",
   "name": "python3"
  },
  "language_info": {
   "codemirror_mode": {
    "name": "ipython",
    "version": 3
   },
   "file_extension": ".py",
   "mimetype": "text/x-python",
   "name": "python",
   "nbconvert_exporter": "python",
   "pygments_lexer": "ipython3",
   "version": "3.12.2"
  }
 },
 "nbformat": 4,
 "nbformat_minor": 4
}
